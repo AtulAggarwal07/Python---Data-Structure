{
  "nbformat": 4,
  "nbformat_minor": 0,
  "metadata": {
    "colab": {
      "provenance": []
    },
    "kernelspec": {
      "name": "python3",
      "display_name": "Python 3"
    },
    "language_info": {
      "name": "python"
    }
  },
  "cells": [
    {
      "cell_type": "markdown",
      "source": [
        "# Data Types and Structures Questions\n"
      ],
      "metadata": {
        "id": "2OxDa9ieiT5b"
      }
    },
    {
      "cell_type": "markdown",
      "source": [
        "1. What are data structures, and why are they important?\n",
        "- Answer\n",
        " - Data Structures are the way of organizing and storing data in structured manner so that it can be accessed and utilized efficiently.\n",
        " - Some of the types of data structures are Array , Stack ,Queue, Linked List , Graphs etc.\n",
        " -They are important for :\n",
        "   1. Better organization of data to perform tasks like searching ,sorting etc.\n",
        "   2. Provide proper memory management to reduce wastage of memory space.\n",
        "   3. Solving problem efficiently.\n",
        "   4. Real World Application for example search engine uses graphs for finding relations, etc.\n",
        "\n",
        "2. Explain the difference between mutable and immutable data types with examples.\n",
        "- Answer\n",
        "  - Immutable Data type -> These are data types that cannot get changed once they are created. Their values remain constant throughout their lifetime. It is suitable for data that should remain constant.\n",
        "   - Example : Integer , string , tuples , float , boolean.\n",
        "  - Mutable Data type -> These are data types that can be changed after they are created. Their values can be changed. It is suitable for data that need to be updated.\n",
        "   - Example : Dictionaries , list , sets.\n",
        "\n",
        "3.  What are the main differences between lists and tuples in Python?\n",
        "- Answer\n",
        " - Lists :\n",
        "   1. They are Mutable data types as they can be changed after they are created.\n",
        "   2. You can add, remove or modify the content.\n",
        "   3. Lists are defined using square brackets [ ]\n",
        "   4. It comsumes more memory than tuples.\n",
        "   5. Lists are slightly slower than tuples.\n",
        " - Tuples :\n",
        "   1. Tuples are Immutable data types as they cannot get chnaged once created.\n",
        "   2. You cannot add. remove or modify the content.\n",
        "   3. Tuples are defined using parentheses (  )\n",
        "   4. It consume less memory than lists.\n",
        "   5. Tuples are slighly faster than Lists.\n",
        "\n",
        "4.  Describe how dictionaries store data.\n",
        "- Answer\n",
        " - Dictionaries in python are a type of mutable data structure that store data in key-value pairs. A dictionary is made up of pair . Each pair has a key and a value.\n",
        " - The key is like a lable . it is how you find the required information.\n",
        " - The value is the actual information associated with key.\n",
        " - Each key in a dictionary must be unique but multiple key can have same value.\n",
        " - Example :     \n",
        "   - Key : \"name\", Value: \"Atul\"\n",
        "   - Key : \"age \", Value: 22\n",
        " - They basically provide quick and easy way to store and retrieve information using labels.\n",
        "\n",
        "5. Why might you use a set instead of a list in Python?\n",
        "- Answer\n",
        " - Sets are used when you need to store unique elements and you don't need to care about the proper order.\n",
        " - Sets automatically delete the dupilcate entries while list allow duplication.\n",
        " -Sets have fast processing as compaired to lists.\n",
        "\n",
        "6. What is a string in Python, and how is it different from a list?\n",
        "- Answer\n",
        " - A string is a sequence of characters like words or sentences.\n",
        " - In python we can create a string by enclosing characters in single quotes,\n",
        " or double quotes.\n",
        " - Example : \"Hello World\".\n",
        "\n",
        " - A string mainly used to store text whereas in list we can store any type of data such as numbers or alphabets etc.\n",
        " - A string is immutable that means they cannot be changed after creation where as list is mutable that means they can be changed after creation.\n",
        "\n",
        "7.  How do tuples ensure data integrity in Python ?\n",
        "- Answer\n",
        " - Tuples are immutable, meaning once you create a tuple, you can't change the items inside it. This ensures the data remains safe and unchanged. In this way tuples ensures data integrity.\n",
        "\n",
        "8. What is a hash table, and how does it relate to dictionaries in Python?\n",
        "- Answer\n",
        " - A hash table is a data structure that allows fast retrival of data.\n",
        " - Like dictionaries it also store data in key-value pairs. In this the key is used to find the required value.\n",
        " - In Python, dictionaries are implemented using hash tables.\n",
        " - When you provide a key to a dictionary, the key is hashed to locate the corresponding value efficiently.\n",
        "\n",
        "9. Can lists contain different data types in Python?\n",
        "- Answer\n",
        " - Yes, lists in Python can contain elements of different data types. For example, a list can contain integers, strings, floats, or even other lists.\n",
        "\n",
        "10. Explain why strings are immutable in Python?\n",
        "- Answer\n",
        " - Strings are immutable because it helps the performance and memory management. Once a string is created, it can't be changed, which avoids accidental changes to data and makes it more efficient.\n",
        "\n",
        "11. What advantages do dictionaries offer over lists for certain tasks?\n",
        "- Answer\n",
        " - Advantages of dictionary over lists\n",
        "  1. Key-value pairs, Dictionaries store data in pairs (key, value).\n",
        "  2. In a dictionary, you can easily find a value using a key, which is much faster than searching through a list.\n",
        "  3. Avoid duplication\n",
        "\n",
        "12. Describe a scenario where using a tuple would be preferable over a list.\n",
        "- Answer\n",
        " - Tuples are good when you want to store data that should not change or fixed. Moreover tuples are immutable and they provide security and integrity.\n",
        "\n",
        "13. How do sets handle duplicate values in Python?\n",
        "- Answer\n",
        " - Sets automatically remove duplicate values. If you try to add a duplicate element to a set, it will simply ignore it.\n",
        "\n",
        "14. How does the “in” keyword work differently for lists and dictionaries?\n",
        "- Answer\n",
        " - For lists, the in keyword checks if an element is present in the list.\n",
        " - For dictionaries, the in keyword checks if a key exists in the dictionary, not the value.\n",
        "\n",
        "15. Can you modify the elements of a tuple? Explain why or why not.\n",
        "- Answer\n",
        " - No , we cannot modify the elements of a tuple once it is created. This is because tuples are immutable in Python.\n",
        "\n",
        "16. What is a nested dictionary, and give an example of its use case?\n",
        "- Answer\n",
        " - A nested dictionary is a dictionary where the values themselves are dictionaries.\n",
        " - Use case: A nested dictionary could represent user profiles, where each user has multiple attributes (like name, age, address) stored in an inner dictionary.\n",
        "\n",
        "17. Describe the time complexity of accessing elements in a dictionary?\n",
        "- Answer\n",
        " - Accessing an element in a dictionary is very fast, with a time complexity of O(1), which means it takes constant time, regardless of how many items are in the dictionary.\n",
        "\n",
        "18. In what situations are lists preferred over dictionaries?\n",
        "- Answer\n",
        " - Lists are preferred when you need an ordered collection of elements that can be accessed by index.\n",
        " - Lists are also useful when the order of insertion is important.\n",
        "\n",
        "19. Why are dictionaries considered unordered, and how does that affect data retrieval?\n",
        "- Answer\n",
        " - Dictionaries are considered unordered because the keys are stored in a hash table, and the order of the keys is not guaranteed.\n",
        " -However, since you access values by their key, this doesn't affect how you retrieve data.\n",
        "\n",
        "20. Explain the difference between a list and a dictionary in terms of data retrieval.\n",
        "- Answer\n",
        " - In a list, you retrieve elements by their index (position), where indexing starts from 0\n",
        " - In a dictionary, you retrieve elements by their key, not an index.\n",
        "\n",
        "\n",
        "\n",
        "\n"
      ],
      "metadata": {
        "id": "uafUlFUbjGk0"
      }
    },
    {
      "cell_type": "markdown",
      "source": [
        "."
      ],
      "metadata": {
        "id": "b1QvX7fC1vnY"
      }
    },
    {
      "cell_type": "markdown",
      "source": [
        "# Practical Questions."
      ],
      "metadata": {
        "id": "LmEWpGuI1mU4"
      }
    },
    {
      "cell_type": "code",
      "source": [
        "# 1. Write a code to create a string with your name and print it.\n",
        "name = \"Atul Aggarwal\"\n",
        "print(name)\n"
      ],
      "metadata": {
        "colab": {
          "base_uri": "https://localhost:8080/"
        },
        "id": "4pfJkOeD11vC",
        "outputId": "8e20c395-9fed-4e09-db08-ef88a2293daf"
      },
      "execution_count": 2,
      "outputs": [
        {
          "output_type": "stream",
          "name": "stdout",
          "text": [
            "Atul Aggarwal\n"
          ]
        }
      ]
    },
    {
      "cell_type": "code",
      "source": [
        "# 2. Write a code to find the length of the string \"Hello World\".\n",
        "\n",
        "str=\"Hello World\"\n",
        "print(len(str))"
      ],
      "metadata": {
        "colab": {
          "base_uri": "https://localhost:8080/"
        },
        "id": "BhEDSWLA2NkB",
        "outputId": "b2a5eda3-a318-4f33-df1d-cbfd8040819f"
      },
      "execution_count": 3,
      "outputs": [
        {
          "output_type": "stream",
          "name": "stdout",
          "text": [
            "11\n"
          ]
        }
      ]
    },
    {
      "cell_type": "code",
      "source": [
        "# 3. Write a code to slice the first 3 characters from the string \"Python Programming\".\n",
        "str=\"Python Programming\"\n",
        "print(str[0:3])"
      ],
      "metadata": {
        "colab": {
          "base_uri": "https://localhost:8080/"
        },
        "id": "EXsHVdrK2y9S",
        "outputId": "26907211-2382-437a-a2ae-82e1f1f7ac20"
      },
      "execution_count": 4,
      "outputs": [
        {
          "output_type": "stream",
          "name": "stdout",
          "text": [
            "Pyt\n"
          ]
        }
      ]
    },
    {
      "cell_type": "code",
      "source": [
        "# 4. Write a code to convert the string \"hello\" to uppercase.\n",
        "str=\"hello\"\n",
        "print(str.upper())"
      ],
      "metadata": {
        "colab": {
          "base_uri": "https://localhost:8080/"
        },
        "id": "VqffQtY93HQ8",
        "outputId": "086c677e-0a18-42cb-a26f-d76a0b9d6352"
      },
      "execution_count": 6,
      "outputs": [
        {
          "output_type": "stream",
          "name": "stdout",
          "text": [
            "HELLO\n"
          ]
        }
      ]
    },
    {
      "cell_type": "code",
      "source": [
        "# 5. Write a code to replace the word \"apple\" with \"orange\" in the string \"I like apple\".\n",
        "str=\"I like apple\"\n",
        "print(str.replace(\"apple\",\"orange\"))"
      ],
      "metadata": {
        "colab": {
          "base_uri": "https://localhost:8080/"
        },
        "id": "V15ddE1g3X4k",
        "outputId": "ff9f0f6c-bd7e-4633-97f8-5199575ef93d"
      },
      "execution_count": 7,
      "outputs": [
        {
          "output_type": "stream",
          "name": "stdout",
          "text": [
            "I like orange\n"
          ]
        }
      ]
    },
    {
      "cell_type": "code",
      "source": [
        "# 6. Write a code to create a list with numbers 1 to 5 and print it.\n",
        "l=[1,2,3,4,5]\n",
        "print(l)"
      ],
      "metadata": {
        "colab": {
          "base_uri": "https://localhost:8080/"
        },
        "id": "QsIqZVEA3n38",
        "outputId": "c3f9c862-b369-4217-a8ea-ab83d7846cbf"
      },
      "execution_count": 8,
      "outputs": [
        {
          "output_type": "stream",
          "name": "stdout",
          "text": [
            "[1, 2, 3, 4, 5]\n"
          ]
        }
      ]
    },
    {
      "cell_type": "code",
      "source": [
        "# 7. Write a code to append the number 10 to the list [1, 2, 3, 4].\n",
        "l=[1,2,3,4]\n",
        "l.append(10)\n",
        "print(l)"
      ],
      "metadata": {
        "colab": {
          "base_uri": "https://localhost:8080/"
        },
        "id": "2YQPaWnQ3w2l",
        "outputId": "cc6e5d3c-4409-4918-cb03-ea5bdbd435d6"
      },
      "execution_count": 9,
      "outputs": [
        {
          "output_type": "stream",
          "name": "stdout",
          "text": [
            "[1, 2, 3, 4, 10]\n"
          ]
        }
      ]
    },
    {
      "cell_type": "code",
      "source": [
        "# 8. Write a code to remove the number 3 from the list [1, 2, 3, 4, 5].\n",
        "l=[1,2,3,4,5]\n",
        "l.remove(3)\n",
        "print(l)"
      ],
      "metadata": {
        "colab": {
          "base_uri": "https://localhost:8080/"
        },
        "id": "JTKsUhdI37mz",
        "outputId": "932c5af9-d753-437c-ac63-f75dabd4a0e3"
      },
      "execution_count": 11,
      "outputs": [
        {
          "output_type": "stream",
          "name": "stdout",
          "text": [
            "[1, 2, 4, 5]\n"
          ]
        }
      ]
    },
    {
      "cell_type": "code",
      "source": [
        "# 9. Write a code to access the second element in the list ['a', 'b', 'c', 'd'].\n",
        "l=['a','b','c','d']\n",
        "print(l[1])"
      ],
      "metadata": {
        "colab": {
          "base_uri": "https://localhost:8080/"
        },
        "id": "P2vTCwjf4H0Z",
        "outputId": "3409bf15-89b3-493d-f5ef-289ab772b5b2"
      },
      "execution_count": 14,
      "outputs": [
        {
          "output_type": "stream",
          "name": "stdout",
          "text": [
            "b\n"
          ]
        }
      ]
    },
    {
      "cell_type": "code",
      "source": [
        "# 10. Write a code to reverse the list [10, 20, 30, 40, 50].\n",
        "l=[10,20,30,40,50]\n",
        "print(l[::-1])"
      ],
      "metadata": {
        "colab": {
          "base_uri": "https://localhost:8080/"
        },
        "id": "YZEedO-04eRj",
        "outputId": "8388cf96-d3e3-459d-c19e-32ef80286571"
      },
      "execution_count": 15,
      "outputs": [
        {
          "output_type": "stream",
          "name": "stdout",
          "text": [
            "[50, 40, 30, 20, 10]\n"
          ]
        }
      ]
    },
    {
      "cell_type": "code",
      "source": [
        "# 11. Write a code to create a tuple with the elements 100, 200, 300 and print it.\n",
        "t=(100,200,300)\n",
        "print(t)"
      ],
      "metadata": {
        "colab": {
          "base_uri": "https://localhost:8080/"
        },
        "id": "eRaPVnmb40pt",
        "outputId": "43d1a0e8-c9ab-4b4b-e7d1-e8c92c67298e"
      },
      "execution_count": 16,
      "outputs": [
        {
          "output_type": "stream",
          "name": "stdout",
          "text": [
            "(100, 200, 300)\n"
          ]
        }
      ]
    },
    {
      "cell_type": "code",
      "source": [
        "# 12. Write a code to access the second-to-last element of the tuple ('red', 'green', 'blue', 'yellow').\n",
        "t=('red', 'green', 'blue', 'yellow')\n",
        "print(t[1:])"
      ],
      "metadata": {
        "colab": {
          "base_uri": "https://localhost:8080/"
        },
        "id": "FAOQ-Ir64_Up",
        "outputId": "7256497b-1753-4fd7-cc69-001801aa5b53"
      },
      "execution_count": 17,
      "outputs": [
        {
          "output_type": "stream",
          "name": "stdout",
          "text": [
            "('green', 'blue', 'yellow')\n"
          ]
        }
      ]
    },
    {
      "cell_type": "code",
      "source": [
        "# 13. Write a code to find the minimum number in the tuple (10, 20, 5, 15).\n",
        "t=(10, 20, 5, 15)\n",
        "print(min(t))\n"
      ],
      "metadata": {
        "colab": {
          "base_uri": "https://localhost:8080/"
        },
        "id": "aRFXDQkp5UUa",
        "outputId": "0d0e57c0-613f-469c-e4a1-d8e4965885f3"
      },
      "execution_count": 18,
      "outputs": [
        {
          "output_type": "stream",
          "name": "stdout",
          "text": [
            "5\n"
          ]
        }
      ]
    },
    {
      "cell_type": "code",
      "source": [
        "# 14. Write a code to find the index of the element \"cat\" in the tuple ('dog', 'cat', 'rabbit').\n",
        "t=('dog', 'cat', 'rabbit')\n",
        "print(t.index('cat'))\n"
      ],
      "metadata": {
        "colab": {
          "base_uri": "https://localhost:8080/"
        },
        "id": "xtTVdFly5nqE",
        "outputId": "6e4c2104-d8b7-43a9-b752-248e7abec3d4"
      },
      "execution_count": 19,
      "outputs": [
        {
          "output_type": "stream",
          "name": "stdout",
          "text": [
            "1\n"
          ]
        }
      ]
    },
    {
      "cell_type": "code",
      "source": [
        "# 15. Write a code to create a tuple containing three different fruits and check if \"kiwi\" is in it.\n",
        "t=(\"apple\",\"orange\",\"kiwi\")\n",
        "print(\"kiwi\"in t)"
      ],
      "metadata": {
        "colab": {
          "base_uri": "https://localhost:8080/"
        },
        "id": "D4fHC6JC52Of",
        "outputId": "9d3a5daa-9716-4ce8-bebc-3094e3215433"
      },
      "execution_count": 22,
      "outputs": [
        {
          "output_type": "stream",
          "name": "stdout",
          "text": [
            "True\n"
          ]
        }
      ]
    },
    {
      "cell_type": "code",
      "source": [
        "# 16. Write a code to create a set with the elements 'a', 'b', 'c' and print it.\n",
        "set={'a','b','c'}\n",
        "print(set)"
      ],
      "metadata": {
        "colab": {
          "base_uri": "https://localhost:8080/"
        },
        "id": "9nqoHg8W6g_7",
        "outputId": "a96bb4a5-5cfb-4bc4-97da-618db253d603"
      },
      "execution_count": 23,
      "outputs": [
        {
          "output_type": "stream",
          "name": "stdout",
          "text": [
            "{'b', 'a', 'c'}\n"
          ]
        }
      ]
    },
    {
      "cell_type": "code",
      "source": [
        "# 17. Write a code to clear all elements from the set {1, 2, 3, 4, 5}.\n",
        "set={1,2,3,4,5}\n",
        "set.clear()\n",
        "print(set)"
      ],
      "metadata": {
        "colab": {
          "base_uri": "https://localhost:8080/"
        },
        "id": "X1SYFjrt7AgD",
        "outputId": "3ae6a9d0-47f8-4cfa-d9cb-7562b592e278"
      },
      "execution_count": 26,
      "outputs": [
        {
          "output_type": "stream",
          "name": "stdout",
          "text": [
            "set()\n"
          ]
        }
      ]
    },
    {
      "cell_type": "code",
      "source": [
        "# 18. Write a code to remove the element 4 from the set {1, 2, 3, 4}.\n",
        "set={1,2,3,4}\n",
        "set.remove(4)\n",
        "print(set)"
      ],
      "metadata": {
        "colab": {
          "base_uri": "https://localhost:8080/"
        },
        "id": "iixJAVMg7UUy",
        "outputId": "76795603-f1d5-4030-da99-3ed264e85307"
      },
      "execution_count": 27,
      "outputs": [
        {
          "output_type": "stream",
          "name": "stdout",
          "text": [
            "{1, 2, 3}\n"
          ]
        }
      ]
    },
    {
      "cell_type": "code",
      "source": [
        "# 19. Write a code to find the union of two sets {1, 2, 3} and {3, 4, 5}.\n",
        "s1={1,2,3}\n",
        "s2={3,4,5}\n",
        "print(s1.union(s2))"
      ],
      "metadata": {
        "colab": {
          "base_uri": "https://localhost:8080/"
        },
        "id": "8oM12Au37nNV",
        "outputId": "96545afe-0344-4658-cecd-97eaf56ac0b1"
      },
      "execution_count": 30,
      "outputs": [
        {
          "output_type": "stream",
          "name": "stdout",
          "text": [
            "{1, 2, 3, 4, 5}\n"
          ]
        }
      ]
    },
    {
      "cell_type": "code",
      "source": [
        "# 20. Write a code to find the intersection of two sets {1, 2, 3} and {2, 3, 4}.\n",
        "s1={1,2,3}\n",
        "s2={2,3,4}\n",
        "print(s1.intersection(s2))"
      ],
      "metadata": {
        "colab": {
          "base_uri": "https://localhost:8080/"
        },
        "id": "UwGXhFwI71P3",
        "outputId": "1b8636e6-e320-4465-f5ff-58068290de32"
      },
      "execution_count": 32,
      "outputs": [
        {
          "output_type": "stream",
          "name": "stdout",
          "text": [
            "{2, 3}\n"
          ]
        }
      ]
    },
    {
      "cell_type": "code",
      "source": [
        "# 21. Write a code to create a dictionary with the keys \"name\", \"age\", and \"city\", and print it.\n",
        "dict={\n",
        "    \"name\" : \"Atul\",\n",
        "    \"age\" : 22,\n",
        "    \"city\" : \"Delhi\"\n",
        "}\n",
        "print(dict)"
      ],
      "metadata": {
        "colab": {
          "base_uri": "https://localhost:8080/"
        },
        "id": "jQgBsMqF8LC5",
        "outputId": "aaf0b23c-f6a7-4718-f667-ec49772d304d"
      },
      "execution_count": 36,
      "outputs": [
        {
          "output_type": "stream",
          "name": "stdout",
          "text": [
            "{'name': 'Atul', 'age': 22, 'city': 'Delhi'}\n"
          ]
        }
      ]
    },
    {
      "cell_type": "code",
      "source": [
        "# 22. Write a code to add a new key-value pair \"country\": \"USA\" to the dictionary {'name': 'John', 'age': 25}.\n",
        "dict={'name':'John','age':25}\n",
        "dict[\"country\"]=\"USA\"\n",
        "print(dict)"
      ],
      "metadata": {
        "colab": {
          "base_uri": "https://localhost:8080/"
        },
        "id": "AcJH2tAH86GA",
        "outputId": "fd3fdcbd-e73a-4fe4-fb8a-58e918bda492"
      },
      "execution_count": 2,
      "outputs": [
        {
          "output_type": "stream",
          "name": "stdout",
          "text": [
            "{'name': 'John', 'age': 25, 'country': 'USA'}\n"
          ]
        }
      ]
    },
    {
      "cell_type": "code",
      "source": [
        "# 23. Write a code to access the value associated with the key \"name\" in the dictionary {'name': 'Alice', 'age': 30}.\n",
        "dict={'name':'Alice','age':30}\n",
        "print(dict[\"name\"])"
      ],
      "metadata": {
        "colab": {
          "base_uri": "https://localhost:8080/"
        },
        "id": "4QO9-MdhPNk1",
        "outputId": "28f5350c-89b6-4a3e-dd6e-d70a72ff377c"
      },
      "execution_count": 3,
      "outputs": [
        {
          "output_type": "stream",
          "name": "stdout",
          "text": [
            "Alice\n"
          ]
        }
      ]
    },
    {
      "cell_type": "code",
      "source": [
        "# 24. Write a code to remove the key \"age\" from the dictionary {'name': 'Bob', 'age': 22, 'city': 'New York'}.\n",
        "dict={'name': 'Bob', 'age': 22, 'city': 'New York'}\n",
        "dict.pop(\"age\")\n",
        "print(dict)"
      ],
      "metadata": {
        "colab": {
          "base_uri": "https://localhost:8080/"
        },
        "id": "-iqL62viPtA6",
        "outputId": "606e06a7-ed9e-4bb8-dec5-88f36cef1aee"
      },
      "execution_count": 4,
      "outputs": [
        {
          "output_type": "stream",
          "name": "stdout",
          "text": [
            "{'name': 'Bob', 'city': 'New York'}\n"
          ]
        }
      ]
    },
    {
      "cell_type": "code",
      "source": [
        "# 25. Write a code to check if the key \"city\" exists in the dictionary {'name': 'Alice', 'city': 'Paris'}.\n",
        "dict={'name': 'Alice', 'city': 'Paris'}\n",
        "print(\"city\"in dict)\n"
      ],
      "metadata": {
        "colab": {
          "base_uri": "https://localhost:8080/"
        },
        "id": "-X65y16HQAiR",
        "outputId": "3b680665-5e63-4c15-99bc-c89d194838ac"
      },
      "execution_count": 5,
      "outputs": [
        {
          "output_type": "stream",
          "name": "stdout",
          "text": [
            "True\n"
          ]
        }
      ]
    },
    {
      "cell_type": "code",
      "source": [
        "# 26. Write a code to create a list, a tuple, and a dictionary, and print them all.\n",
        "l=[1,2,3,4]\n",
        "t=(1,2,3,4)\n",
        "dict={\n",
        "    \"name\":\"Atul\",\n",
        "    \"age\":22\n",
        "}\n",
        "\n",
        "print(l)\n",
        "print(t)\n",
        "print(dict)"
      ],
      "metadata": {
        "colab": {
          "base_uri": "https://localhost:8080/"
        },
        "id": "Spxo0cA1QSr4",
        "outputId": "3df31fd4-d3d4-41cc-dd14-de8018aa2e8b"
      },
      "execution_count": 7,
      "outputs": [
        {
          "output_type": "stream",
          "name": "stdout",
          "text": [
            "[1, 2, 3, 4]\n",
            "(1, 2, 3, 4)\n",
            "{'name': 'Atul', 'age': 22}\n"
          ]
        }
      ]
    },
    {
      "cell_type": "code",
      "source": [
        "# 27.   Write a code to create a list of 5 random numbers between 1 and 100, sort it in ascending order, and print the result.(replaced)\n",
        "l=[33,59,12,20,44]\n",
        "l.sort()\n",
        "print(l)\n"
      ],
      "metadata": {
        "colab": {
          "base_uri": "https://localhost:8080/"
        },
        "id": "VDeIQASeQ0lN",
        "outputId": "42ab6ae4-9f74-486f-b1b4-6979dac49115"
      },
      "execution_count": 10,
      "outputs": [
        {
          "output_type": "stream",
          "name": "stdout",
          "text": [
            "[12, 20, 33, 44, 59]\n"
          ]
        }
      ]
    },
    {
      "cell_type": "code",
      "source": [
        "# 28. Write a code to create a list with strings and print the element at the third index.\n",
        "l=[\"I\",\"Am\",\"Living\",\"in\",\"India\"]\n",
        "print(l[3])"
      ],
      "metadata": {
        "colab": {
          "base_uri": "https://localhost:8080/"
        },
        "id": "CVAQRfMhRjFQ",
        "outputId": "79195fdb-1909-48c9-8f9f-529486b45eca"
      },
      "execution_count": 13,
      "outputs": [
        {
          "output_type": "stream",
          "name": "stdout",
          "text": [
            "in\n"
          ]
        }
      ]
    },
    {
      "cell_type": "code",
      "source": [
        "# 29. Write a code to combine two dictionaries into one and print the result.\n",
        "dict1={\n",
        "    \"name\":\"ATUL\",\n",
        "    \"age\":22\n",
        "}\n",
        "dict2={\n",
        "    \"city\":\"delhi\"\n",
        "}\n",
        "dict1.update(dict2)\n",
        "print(dict1)"
      ],
      "metadata": {
        "colab": {
          "base_uri": "https://localhost:8080/"
        },
        "id": "GgX7xwi7SJ8F",
        "outputId": "40733e74-681c-41c6-ed9a-9f875b5298d0"
      },
      "execution_count": 14,
      "outputs": [
        {
          "output_type": "stream",
          "name": "stdout",
          "text": [
            "{'name': 'ATUL', 'age': 22, 'city': 'delhi'}\n"
          ]
        }
      ]
    },
    {
      "cell_type": "code",
      "source": [
        "# 30. Write a code to convert a list of strings into a set.\n",
        "l=[\"apple\",\"banana\",\"mango\",\"orange\"]\n",
        "s=set(l)\n",
        "print(s)"
      ],
      "metadata": {
        "colab": {
          "base_uri": "https://localhost:8080/"
        },
        "id": "m9R-VkexSx_o",
        "outputId": "072dd7a8-13d5-496e-a4c3-879a1bbd85b9"
      },
      "execution_count": 15,
      "outputs": [
        {
          "output_type": "stream",
          "name": "stdout",
          "text": [
            "{'mango', 'banana', 'apple', 'orange'}\n"
          ]
        }
      ]
    }
  ]
}